{
 "cells": [
  {
   "cell_type": "code",
   "execution_count": 14,
   "metadata": {},
   "outputs": [
    {
     "data": {
      "text/plain": [
       "(array([ 59.33333357, -46.99999986,  27.66666629]),\n",
       " array([[ 1.28502408e-15,  1.28502408e-15, -2.57004818e-15],\n",
       "        [ 1.28502410e-15, -1.28502409e-15, -0.00000000e+00],\n",
       "        [-2.57004819e-15,  1.55301678e-23,  2.57004819e-15]]))"
      ]
     },
     "execution_count": 14,
     "metadata": {},
     "output_type": "execute_result"
    }
   ],
   "source": [
    "import numpy as np\n",
    "from scipy.optimize import curve_fit\n",
    "\n",
    "def test_func(data):\n",
    "    return data[0] + data[1] + data[2] + 40\n",
    "\n",
    "xdata = np.linspace(1, 4, 50)\n",
    "ydata = np.linspace(1, 4, 50) + 0.2 * np.random.randn(50)\n",
    "zdata = np.linspace(1, 4, 50) + 0.2 * np.random.randn(50)\n",
    "\n",
    "data = np.array([xdata, ydata, zdata])\n",
    "\n",
    "def func_to_fit(data, a, b, c):\n",
    "    return data[0] + data[1] + data[2] + a + b + c\n",
    "\n",
    "curve_fit(func_to_fit, data, test_func(data))\n"
   ]
  },
  {
   "cell_type": "code",
   "execution_count": 15,
   "metadata": {},
   "outputs": [
    {
     "data": {
      "text/plain": [
       "40"
      ]
     },
     "execution_count": 15,
     "metadata": {},
     "output_type": "execute_result"
    }
   ],
   "source": [
    "59 - 46 + 27"
   ]
  }
 ],
 "metadata": {
  "interpreter": {
   "hash": "c85e4b8a6b9a6b994009591ae428c157ff78df933e92cebeff139358f07e3f86"
  },
  "kernelspec": {
   "display_name": "Python 3.8.8 64-bit ('formula-finder-VzUa6P_7-py3.8': poetry)",
   "language": "python",
   "name": "python3"
  },
  "language_info": {
   "codemirror_mode": {
    "name": "ipython",
    "version": 3
   },
   "file_extension": ".py",
   "mimetype": "text/x-python",
   "name": "python",
   "nbconvert_exporter": "python",
   "pygments_lexer": "ipython3",
   "version": "3.8.8"
  },
  "orig_nbformat": 4
 },
 "nbformat": 4,
 "nbformat_minor": 2
}
