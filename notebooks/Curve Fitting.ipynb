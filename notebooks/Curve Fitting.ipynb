{
 "cells": [
  {
   "cell_type": "code",
   "execution_count": 1,
   "metadata": {},
   "outputs": [
    {
     "name": "stderr",
     "output_type": "stream",
     "text": [
      "/home/james/.cache/pypoetry/virtualenvs/formula-finder-VzUa6P_7-py3.8/lib/python3.8/site-packages/scipy/optimize/minpack.py:833: OptimizeWarning: Covariance of the parameters could not be estimated\n",
      "  warnings.warn('Covariance of the parameters could not be estimated',\n"
     ]
    },
    {
     "data": {
      "text/plain": [
       "(array([ 59.333334 , -47.0000007,  27.6666667]),\n",
       " array([[inf, inf, inf],\n",
       "        [inf, inf, inf],\n",
       "        [inf, inf, inf]]))"
      ]
     },
     "execution_count": 1,
     "metadata": {},
     "output_type": "execute_result"
    }
   ],
   "source": [
    "import numpy as np\n",
    "from scipy.optimize import curve_fit\n",
    "\n",
    "def test_func(data):\n",
    "    return data[0] + data[1] + data[2] + 40\n",
    "\n",
    "xdata = np.linspace(1, 4, 50)\n",
    "ydata = np.linspace(1, 4, 50) + 0.2 * np.random.randn(50)\n",
    "zdata = np.linspace(1, 4, 50) + 0.2 * np.random.randn(50)\n",
    "\n",
    "data = np.array([xdata, ydata, zdata])\n",
    "\n",
    "def func_to_fit(data, a, b, c):\n",
    "    return data[0] + data[1] + data[2] + a + b + c\n",
    "\n",
    "curve_fit(func_to_fit, data, test_func(data))\n"
   ]
  },
  {
   "cell_type": "code",
   "execution_count": 2,
   "metadata": {},
   "outputs": [
    {
     "name": "stdout",
     "output_type": "stream",
     "text": [
      "variables_to_apply [23, 24, 0]\n",
      "\n",
      "ending_indicies2 [ 8 14 23 14 24 20 13 23  0 23 24 24 24 22 21] [ 8 14 23 14 24 20 13 23  0 23 24 24 24 22 21]\n",
      "[23  0 24 23]\n"
     ]
    },
    {
     "data": {
      "text/plain": [
       "array([14,  0,  0,  0,  0,  0,  0,  0,  0,  0,  0,  0,  0,  0,  0])"
      ]
     },
     "execution_count": 2,
     "metadata": {},
     "output_type": "execute_result"
    }
   ],
   "source": [
    "from formula_finder.genetic_helpers import add_x_and_custom_variables_to_ending_indicies\n",
    "from formula_finder.variables import get_ending_indicies, CUSTOM_VARIABLES_INDICIES, add_custom_variables, get_ending_indicies_that_are_not_leaf_nodes, replace_ending_index_with_random_node\n",
    "import numpy as np\n",
    "from formula_finder.binary_tree import (\n",
    "    depth_of_tree,\n",
    "    number_of_leaf_nodes_in_binary_tree,\n",
    ")\n",
    "add_custom_variables([\"m1\", \"m2\"])\n",
    "chromosome = np.array([22, 14, 23, 14, 24, 20, 13, 23,  0, 23, 24, 24, 24, 22, 21])\n",
    "# print(get_ending_indicies_that_are_not_leaf_nodes(chromosome))\n",
    "# ending_indicies = get_ending_indicies(chromosome)\n",
    "# print(ending_indicies)\n",
    "# leaf_count = number_of_leaf_nodes_in_binary_tree(depth_of_tree(len(chromosome)))\n",
    "# temp_chromosome = np.array(chromosome)\n",
    "# for i in range(3):\n",
    "#     print(\"leaf nodes\", leaf_count)\n",
    "#     print(\"ending non leaf nodes\", get_ending_indicies_that_are_not_leaf_nodes(temp_chromosome))\n",
    "#     print(\"ending nodes\", get_ending_indicies(temp_chromosome))\n",
    "#     print(\"CUSTOM_VARIABLES_INDICIES\", CUSTOM_VARIABLES_INDICIES)\n",
    "#     temp_chromosome = replace_ending_index_with_random_node(temp_chromosome)\n",
    "#     print(temp_chromosome)\n",
    "    \n",
    "# print(\"==========================================================\")\n",
    "# print(\"to apply\", [\n",
    "#         x for x in CUSTOM_VARIABLES_INDICIES + [0] if x not in ending_indicies\n",
    "#     ])\n",
    "\n",
    "# print(len(chromosome), leaf_count, depth_of_tree(len(chromosome)), chromosome[-leaf_count:])\n",
    "# print(\"test\", replace_ending_index_with_random_node(chromosome))\n",
    "chromosome2 = add_x_and_custom_variables_to_ending_indicies(chromosome)\n",
    "# depth_of_tree(1)\n",
    "ending_indicies2 = get_ending_indicies(chromosome2)\n",
    "print(\"ending_indicies2\", chromosome, chromosome2)\n",
    "ending_indicies = get_ending_indicies(chromosome)\n",
    "print(chromosome2[ending_indicies])\n",
    "np.array([22, 14, 23, 14, 24, 20, 13, 23,  0, 23, 24, 24, 24, 22, 21]) - chromosome2\n",
    "\n",
    "# CUSTOM_VARIABLES_INDICIES\n"
   ]
  }
 ],
 "metadata": {
  "interpreter": {
   "hash": "c85e4b8a6b9a6b994009591ae428c157ff78df933e92cebeff139358f07e3f86"
  },
  "kernelspec": {
   "display_name": "Python 3.8.8 64-bit ('formula-finder-VzUa6P_7-py3.8': poetry)",
   "language": "python",
   "name": "python3"
  },
  "language_info": {
   "codemirror_mode": {
    "name": "ipython",
    "version": 3
   },
   "file_extension": ".py",
   "mimetype": "text/x-python",
   "name": "python",
   "nbconvert_exporter": "python",
   "pygments_lexer": "ipython3",
   "version": "3.8.8"
  },
  "orig_nbformat": 4
 },
 "nbformat": 4,
 "nbformat_minor": 2
}
