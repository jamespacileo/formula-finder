{
 "cells": [
  {
   "cell_type": "code",
   "execution_count": 1,
   "metadata": {},
   "outputs": [
    {
     "data": {
      "application/vnd.jupyter.widget-view+json": {
       "model_id": "51334a498df44b55b66d3953cb75085a",
       "version_major": 2,
       "version_minor": 0
      },
      "text/plain": [
       "  0%|          | 0/1000 [00:00<?, ?it/s]"
      ]
     },
     "metadata": {},
     "output_type": "display_data"
    }
   ],
   "source": [
    "from formula_finder import main\n",
    "import warnings\n",
    "with warnings.catch_warnings():\n",
    "    warnings.simplefilter(\"ignore\")\n",
    "    g = main()\n",
    "# g = main()"
   ]
  },
  {
   "cell_type": "code",
   "execution_count": 11,
   "metadata": {},
   "outputs": [
    {
     "name": "stderr",
     "output_type": "stream",
     "text": [
      "/home/james/.cache/pypoetry/virtualenvs/formula-finder-VzUa6P_7-py3.8/lib/python3.8/site-packages/scipy/optimize/minpack.py:833: OptimizeWarning: Covariance of the parameters could not be estimated\n",
      "  warnings.warn('Covariance of the parameters could not be estimated',\n"
     ]
    },
    {
     "data": {
      "text/plain": [
       "array([ 4,  6,  4,  2, 26, 24,  0, 22,  3, 26, 21, 26, 23,  0, 25])"
      ]
     },
     "execution_count": 11,
     "metadata": {},
     "output_type": "execute_result"
    }
   ],
   "source": [
    "from formula_finder.simplify import represent_formula_in_sympy\n",
    "\n",
    "sol = g.best_solution()[0]\n",
    "sym = represent_formula_in_sympy(sol)\n",
    "\n",
    "# from formula_finder.variables import (\n",
    "#     ALL_INDICIES,\n",
    "#     CUSTOM_VARIABLES_INDICIES,\n",
    "#     VARIABLE_INDICIES,\n",
    "#     NotEnoughEndingIndiciesException,\n",
    "#     add_x_and_custom_variables_to_ending_indicies,\n",
    "#     add_x_to_ending_indicies,\n",
    "#     convert_array_to_binary_tree,\n",
    "#     get_ending_indicies,\n",
    "# )\n",
    "\n",
    "# convert_array_to_binary_tree(\n",
    "#     solution_array, x, a, b, c, [dim2, dim3]\n",
    "# )\n",
    "sol\n"
   ]
  },
  {
   "cell_type": "code",
   "execution_count": 13,
   "metadata": {},
   "outputs": [
    {
     "data": {
      "text/latex": [
       "$\\displaystyle 6.02214076 \\cdot 10^{23} b + x + 299792458.0$"
      ],
      "text/plain": [
       "6.02214076e+23*b + x + 299792458.0"
      ]
     },
     "execution_count": 13,
     "metadata": {},
     "output_type": "execute_result"
    }
   ],
   "source": [
    "from sympy import solve, Symbol\n",
    "sym"
   ]
  },
  {
   "cell_type": "code",
   "execution_count": 10,
   "metadata": {},
   "outputs": [
    {
     "data": {
      "text/plain": [
       "4.767357142857142e-21"
      ]
     },
     "execution_count": 10,
     "metadata": {},
     "output_type": "execute_result"
    }
   ],
   "source": [
    "from astropy import constants as c\n",
    "\n",
    "c.G.value / 14e9"
   ]
  },
  {
   "cell_type": "code",
   "execution_count": 12,
   "metadata": {},
   "outputs": [
    {
     "name": "stderr",
     "output_type": "stream",
     "text": [
      "/home/james/.cache/pypoetry/virtualenvs/formula-finder-VzUa6P_7-py3.8/lib/python3.8/site-packages/scipy/optimize/minpack.py:833: OptimizeWarning: Covariance of the parameters could not be estimated\n",
      "  warnings.warn('Covariance of the parameters could not be estimated',\n"
     ]
    },
    {
     "data": {
      "text/plain": [
       "999996.0"
      ]
     },
     "execution_count": 12,
     "metadata": {},
     "output_type": "execute_result"
    }
   ],
   "source": [
    "from formula_finder.genetic_helpers import fitness_function_factory\n",
    "import numpy as np\n",
    "\n",
    "def default_comparison_func(data):\n",
    "    x = data[0]\n",
    "    m1 = data[1]\n",
    "    m2 = data[2]\n",
    "    return c.G.value * (m1 * m2) / np.power(x, 2)\n",
    "\n",
    "defaultCustomParametersData = {\n",
    "    \"m1\": np.linspace(0.8, 1.2, 10) * c.M_sun.value,\n",
    "    \"m2\": np.linspace(0.8, 1.2, 10) * c.M_earth.value,\n",
    "}\n",
    "xdata = np.linspace(0.8, 1.3, 10) * 14e9\n",
    "\n",
    "\n",
    "fitness_func = fitness_function_factory(default_comparison_func, xdata, defaultCustomParametersData)\n",
    "\n",
    "fitness_func([ 4,  6,  4,  2, 26, 24,  0, 22,  3, 26, 21, 26, 23,  0, 25], 1)\n"
   ]
  }
 ],
 "metadata": {
  "interpreter": {
   "hash": "ef84525c8b3518474726ae08fa6075df35e3a347a06d6f28e63dc1073d701e70"
  },
  "kernelspec": {
   "display_name": "Python 3.9.7 64-bit ('formula_finder-4trw2-9E': pipenv)",
   "language": "python",
   "name": "python3"
  },
  "language_info": {
   "codemirror_mode": {
    "name": "ipython",
    "version": 3
   },
   "file_extension": ".py",
   "mimetype": "text/x-python",
   "name": "python",
   "nbconvert_exporter": "python",
   "pygments_lexer": "ipython3",
   "version": "3.8.8"
  },
  "orig_nbformat": 4
 },
 "nbformat": 4,
 "nbformat_minor": 2
}
