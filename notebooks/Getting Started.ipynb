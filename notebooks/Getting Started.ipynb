{
 "cells": [
  {
   "cell_type": "code",
   "execution_count": null,
   "metadata": {},
   "outputs": [],
   "source": [
    "from formula_finder import main\n",
    "import warnings\n",
    "with warnings.catch_warnings():\n",
    "    warnings.simplefilter(\"ignore\")\n",
    "    g = main()\n",
    "# g = main()"
   ]
  },
  {
   "cell_type": "code",
   "execution_count": 15,
   "metadata": {},
   "outputs": [
    {
     "data": {
      "text/latex": [
       "$\\displaystyle \\frac{1.0}{x^{2}}$"
      ],
      "text/plain": [
       "1.0/x**2"
      ]
     },
     "execution_count": 15,
     "metadata": {},
     "output_type": "execute_result"
    }
   ],
   "source": [
    "\n",
    "from formula_finder.simplify import represent_formula_in_sympy, solve_formula\n",
    "from scipy.optimize import curve_fit\n",
    "from formula_finder.variables import convert_array_to_binary_tree\n",
    "import numpy as np\n",
    "from sympy import solve, symbols\n",
    "\n",
    "sol = g.best_solution()[0]\n",
    "sym = represent_formula_in_sympy(sol)\n",
    "\n",
    "\n",
    "def func_to_fit(data, a, b, c):\n",
    "    x, dim2, dim3 = data[0], data[1], data[2]\n",
    "    return convert_array_to_binary_tree(\n",
    "        sol, x, a, b, c, [dim2, dim3]\n",
    "    )\n",
    "    \n",
    "\n",
    "def comparison_func(data):\n",
    "    return math.pi + np.power(data[0], 2) + 5 * data[0]\n",
    "\n",
    "\n",
    "\n",
    "xdata = np.linspace(0.8, 1.3, 10) * 14e9\n",
    "ydata = np.zeros(xdata.shape)\n",
    "zdata = np.zeros(xdata.shape)\n",
    "data = np.array([xdata, ydata, zdata])\n",
    "\n",
    "ptot, pcov = curve_fit(\n",
    "    func_to_fit,\n",
    "    data,\n",
    "    comparison_func(data),\n",
    ")\n",
    "\n",
    "func_to_fit(data, *ptot)\n",
    "\n",
    "a, b, c = symbols(\"a b c\")\n",
    "\n",
    "solve_formula(sol, Symbol(\"x\"), *ptot)\n",
    "sym = sym.subs({a: ptot[0], b: ptot[1], c: ptot[2]})\n",
    "sym\n",
    "# ptot\n",
    "# from formula_finder.variables import (\n",
    "#     ALL_INDICIES,\n",
    "#     CUSTOM_VARIABLES_INDICIES,\n",
    "#     VARIABLE_INDICIES,\n",
    "#     NotEnoughEndingIndiciesException,\n",
    "#     add_x_and_custom_variables_to_ending_indicies,\n",
    "#     add_x_to_ending_indicies,\n",
    "#     convert_array_to_binary_tree,\n",
    "#     get_ending_indicies,\n",
    "# )\n",
    "\n",
    "# convert_array_to_binary_tree(\n",
    "#     solution_array, x, a, b, c, [dim2, dim3]\n",
    "# )\n",
    "# sol\n"
   ]
  },
  {
   "cell_type": "code",
   "execution_count": null,
   "metadata": {},
   "outputs": [],
   "source": [
    "from sympy import solve, Symbol\n",
    "sym"
   ]
  },
  {
   "cell_type": "code",
   "execution_count": null,
   "metadata": {},
   "outputs": [],
   "source": [
    "from astropy import constants as c\n",
    "\n",
    "c.G.value / 14e9"
   ]
  },
  {
   "cell_type": "code",
   "execution_count": null,
   "metadata": {},
   "outputs": [],
   "source": [
    "from formula_finder.genetic_helpers import fitness_function_factory\n",
    "import numpy as np\n",
    "\n",
    "def default_comparison_func(data):\n",
    "    x = data[0]\n",
    "    m1 = data[1]\n",
    "    m2 = data[2]\n",
    "    return c.G.value * (m1 * m2) / np.power(x, 2)\n",
    "\n",
    "defaultCustomParametersData = {\n",
    "    \"m1\": np.linspace(0.8, 1.2, 10) * c.M_sun.value,\n",
    "    \"m2\": np.linspace(0.8, 1.2, 10) * c.M_earth.value,\n",
    "}\n",
    "xdata = np.linspace(0.8, 1.3, 10) * 14e9\n",
    "\n",
    "\n",
    "fitness_func = fitness_function_factory(default_comparison_func, xdata, defaultCustomParametersData)\n",
    "\n",
    "fitness_func([ 4,  6,  4,  2, 26, 24,  0, 22,  3, 26, 21, 26, 23,  0, 25], 1)\n"
   ]
  }
 ],
 "metadata": {
  "interpreter": {
   "hash": "ef84525c8b3518474726ae08fa6075df35e3a347a06d6f28e63dc1073d701e70"
  },
  "kernelspec": {
   "display_name": "Python 3.9.7 64-bit ('formula_finder-4trw2-9E': pipenv)",
   "language": "python",
   "name": "python3"
  },
  "language_info": {
   "codemirror_mode": {
    "name": "ipython",
    "version": 3
   },
   "file_extension": ".py",
   "mimetype": "text/x-python",
   "name": "python",
   "nbconvert_exporter": "python",
   "pygments_lexer": "ipython3",
   "version": "3.8.8"
  },
  "orig_nbformat": 4
 },
 "nbformat": 4,
 "nbformat_minor": 2
}
