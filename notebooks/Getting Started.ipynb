{
 "cells": [
  {
   "cell_type": "markdown",
   "metadata": {},
   "source": [
    "Example using Newton's law of universal gravitation\n",
    "==================================================\n",
    "\n",
    "This is the first example I've tried as a first benchmark:\n",
    "- 3 dimensions\n",
    "- no noise added"
   ]
  },
  {
   "cell_type": "code",
   "execution_count": 1,
   "metadata": {},
   "outputs": [],
   "source": [
    "from formula_finder import main\n",
    "import warnings\n",
    "import numpy as np\n",
    "from astropy import constants as c\n",
    "from astropy import units as u"
   ]
  },
  {
   "cell_type": "code",
   "execution_count": 2,
   "metadata": {},
   "outputs": [
    {
     "data": {
      "application/vnd.jupyter.widget-view+json": {
       "model_id": "7fa5e111a1a548609e3a4c7af88c1e74",
       "version_major": 2,
       "version_minor": 0
      },
      "text/plain": [
       "  0%|          | 0/500 [00:00<?, ?it/s]"
      ]
     },
     "metadata": {},
     "output_type": "display_data"
    },
    {
     "data": {
      "text/latex": [
       "$\\displaystyle \\frac{6.6743 \\cdot 10^{-11} m_{1} m_{2}}{x^{2}}$"
      ],
      "text/plain": [
       "6.6743e-11*m1*m2/x**2"
      ]
     },
     "execution_count": 2,
     "metadata": {},
     "output_type": "execute_result"
    }
   ],
   "source": [
    "mass_earth = c.M_earth.to(u.kg).value\n",
    "mass_sun = c.M_sun.to(u.kg).value\n",
    "distance_earth_sun = 147e9\n",
    "\n",
    "xdata = np.linspace(0.8, 1.3, 20) * distance_earth_sun\n",
    "dim1_data = np.linspace(0.8, 1.2, 20) * mass_earth\n",
    "dim2_data = np.linspace(0.8, 1.2, 20) * mass_sun\n",
    "\n",
    "def ydata(data):\n",
    "    # test data with noise\n",
    "    return c.G.value * (data[1] * data[2]) / np.power(data[0], 2)\n",
    "\n",
    "g, formula = main(\n",
    "    num_generations=500,\n",
    "    comparison_func=ydata,\n",
    "    xdata=xdata,\n",
    "    dim1_data=dim1_data,\n",
    "    dim2_data=dim2_data,\n",
    "    dimension_names=[\"r\", \"m1\", \"m2\"],\n",
    ")\n",
    "formula"
   ]
  },
  {
   "cell_type": "markdown",
   "metadata": {},
   "source": [
    "Example: Newton's law of universal gravitation [WITH NOISE]\n",
    "========================================================\n",
    "\n",
    "In this example we added noise of 5% to the distance data which corresponds to 7000km.\n",
    "\n",
    "It is still able to extrapolate the formula, but it is not as accurate as the original data. However we have a good starting point that for futher work.\n",
    "\n",
    "Best strategy is to usually add more data points to the data or decrease the noise of the input data.\n",
    "\n"
   ]
  },
  {
   "cell_type": "code",
   "execution_count": 9,
   "metadata": {},
   "outputs": [
    {
     "data": {
      "application/vnd.jupyter.widget-view+json": {
       "model_id": "8adc72246237409ca9176af0e8b7ecc5",
       "version_major": 2,
       "version_minor": 0
      },
      "text/plain": [
       "  0%|          | 0/1000 [00:00<?, ?it/s]"
      ]
     },
     "metadata": {},
     "output_type": "display_data"
    },
    {
     "data": {
      "text/latex": [
       "$\\displaystyle \\frac{6.94977037097224 \\cdot 10^{-11} m_{1} m_{2}}{x^{2}}$"
      ],
      "text/plain": [
       "6.94977037097224e-11*m1*m2/x**2"
      ]
     },
     "execution_count": 9,
     "metadata": {},
     "output_type": "execute_result"
    }
   ],
   "source": [
    "def ydata(data):\n",
    "    # test data with noise\n",
    "    return c.G.value * (data[1] * data[2]) / np.power(data[0], 2) * np.random.uniform(0.95, 1.05)\n",
    "\n",
    "\n",
    "g, formula = main(\n",
    "    num_generations=1000,\n",
    "    comparison_func=ydata,\n",
    "    xdata=xdata,\n",
    "    dim1_data=dim1_data,\n",
    "    dim2_data=dim2_data,\n",
    "    dimension_names=[\"r\", \"m1\", \"m2\"],\n",
    ")\n",
    "formula"
   ]
  },
  {
   "cell_type": "markdown",
   "metadata": {},
   "source": [
    "Below we add a few more data points to the data and decrease the noise to the data from 7000km uncertainty to 1400km uncertainty."
   ]
  },
  {
   "cell_type": "code",
   "execution_count": 5,
   "metadata": {},
   "outputs": [
    {
     "data": {
      "application/vnd.jupyter.widget-view+json": {
       "model_id": "c996706931274f22971a1ab18fef4bd7",
       "version_major": 2,
       "version_minor": 0
      },
      "text/plain": [
       "  0%|          | 0/1000 [00:00<?, ?it/s]"
      ]
     },
     "metadata": {},
     "output_type": "display_data"
    },
    {
     "data": {
      "text/latex": [
       "$\\displaystyle - \\frac{6.63873400696957 \\cdot 10^{-11} m_{2} \\left(- m_{1} + x\\right)}{x^{2}}$"
      ],
      "text/plain": [
       "-6.63873400696957e-11*m2*(-m1 + x)/x**2"
      ]
     },
     "execution_count": 5,
     "metadata": {},
     "output_type": "execute_result"
    }
   ],
   "source": [
    "mass_earth = c.M_earth.to(u.kg).value\n",
    "mass_sun = c.M_sun.to(u.kg).value\n",
    "distance_earth_sun = 147e9\n",
    "\n",
    "xdata = np.linspace(0.8, 1.3, 40) * distance_earth_sun\n",
    "dim1_data = np.linspace(0.8, 1.2, 40) * mass_earth\n",
    "dim2_data = np.linspace(0.8, 1.2, 40) * mass_sun\n",
    "\n",
    "def ydata(data):\n",
    "    # test data with noise\n",
    "    return c.G.value * (data[1] * data[2]) / np.power(data[0], 2) * np.random.uniform(0.99, 1.01)\n",
    "\n",
    "\n",
    "g, formula = main(\n",
    "    num_generations=1000,\n",
    "    comparison_func=ydata,\n",
    "    xdata=xdata,\n",
    "    dim1_data=dim1_data,\n",
    "    dim2_data=dim2_data,\n",
    "    dimension_names=[\"r\", \"m1\", \"m2\"],\n",
    ")\n",
    "formula"
   ]
  },
  {
   "cell_type": "markdown",
   "metadata": {},
   "source": [
    "Example: Area of a circle\n",
    "========================\n",
    "\n",
    "Very simple example of a common formula, which due to lack of complexity is generally able to solve fairly quickly.\n",
    "\n",
    "In this example the algorithm terminates early as it detects it being fairly accurate."
   ]
  },
  {
   "cell_type": "code",
   "execution_count": 5,
   "metadata": {},
   "outputs": [
    {
     "data": {
      "application/vnd.jupyter.widget-view+json": {
       "model_id": "06087b0a10274b51bfa2ca68c549091f",
       "version_major": 2,
       "version_minor": 0
      },
      "text/plain": [
       "  0%|          | 0/300 [00:00<?, ?it/s]"
      ]
     },
     "metadata": {},
     "output_type": "display_data"
    },
    {
     "data": {
      "text/latex": [
       "$\\displaystyle 3.14159265358979 x^{2}$"
      ],
      "text/plain": [
       "3.14159265358979*x**2"
      ]
     },
     "execution_count": 5,
     "metadata": {},
     "output_type": "execute_result"
    }
   ],
   "source": [
    "def area_of_circle(data):\n",
    "    return np.pi * np.power(data[0], 2)\n",
    "\n",
    "xdata = np.linspace(1, 10, 10)\n",
    "\n",
    "\n",
    "g, formula = main(\n",
    "    num_generations=300,\n",
    "    comparison_func=area_of_circle,\n",
    "    xdata=xdata,\n",
    "    dimension_names=[\"r\"],\n",
    ")\n",
    "formula\n"
   ]
  },
  {
   "cell_type": "markdown",
   "metadata": {},
   "source": [
    "Example: Exponential\n",
    "====================="
   ]
  },
  {
   "cell_type": "code",
   "execution_count": 6,
   "metadata": {},
   "outputs": [
    {
     "data": {
      "application/vnd.jupyter.widget-view+json": {
       "model_id": "344498b9fea346479ca831dfd61022c7",
       "version_major": 2,
       "version_minor": 0
      },
      "text/plain": [
       "  0%|          | 0/300 [00:00<?, ?it/s]"
      ]
     },
     "metadata": {},
     "output_type": "display_data"
    },
    {
     "data": {
      "text/latex": [
       "$\\displaystyle 3.1415926535898 e^{2 x}$"
      ],
      "text/plain": [
       "3.1415926535898*exp(2*x)"
      ]
     },
     "execution_count": 6,
     "metadata": {},
     "output_type": "execute_result"
    }
   ],
   "source": [
    "\n",
    "\n",
    "import math\n",
    "\n",
    "def exponential(data):\n",
    "    return math.pi * np.exp( 2 * data[0])\n",
    "\n",
    "xdata = np.linspace(1, 10, 50)\n",
    "\n",
    "\n",
    "g, formula = main(\n",
    "    num_generations=300,\n",
    "    comparison_func=exponential,\n",
    "    xdata=xdata\n",
    ")\n",
    "formula\n"
   ]
  },
  {
   "cell_type": "markdown",
   "metadata": {},
   "source": [
    "Example: Mixed\n",
    "=============="
   ]
  },
  {
   "cell_type": "code",
   "execution_count": 7,
   "metadata": {},
   "outputs": [
    {
     "data": {
      "application/vnd.jupyter.widget-view+json": {
       "model_id": "12ef0929a6e24f24a60f30b60486e4d1",
       "version_major": 2,
       "version_minor": 0
      },
      "text/plain": [
       "  0%|          | 0/300 [00:00<?, ?it/s]"
      ]
     },
     "metadata": {},
     "output_type": "display_data"
    },
    {
     "data": {
      "text/latex": [
       "$\\displaystyle \\frac{\\sin{\\left(x \\right)}}{x}$"
      ],
      "text/plain": [
       "sin(x)/x"
      ]
     },
     "execution_count": 7,
     "metadata": {},
     "output_type": "execute_result"
    }
   ],
   "source": [
    "def sin_over_x(data):\n",
    "    return np.sin(data[0]) / data[0]\n",
    "\n",
    "xdata = np.linspace(1, 10, 10)\n",
    "\n",
    "\n",
    "g, formula = main(\n",
    "    num_generations=300,\n",
    "    comparison_func=sin_over_x,\n",
    "    xdata=xdata\n",
    ")\n",
    "formula\n"
   ]
  },
  {
   "cell_type": "markdown",
   "metadata": {},
   "source": [
    "Example: Kepler Orbits [In Progress]\n",
    "=====================================\n",
    "\n",
    "Currently improving evolution strategy to make it more robust. This case still eludes me. :)"
   ]
  },
  {
   "cell_type": "code",
   "execution_count": 9,
   "metadata": {},
   "outputs": [
    {
     "data": {
      "application/vnd.jupyter.widget-view+json": {
       "model_id": "461e37a3180943099d0bcb1d001ebb7c",
       "version_major": 2,
       "version_minor": 0
      },
      "text/plain": [
       "  0%|          | 0/300 [00:00<?, ?it/s]"
      ]
     },
     "metadata": {},
     "output_type": "display_data"
    },
    {
     "data": {
      "text/latex": [
       "$\\displaystyle 8.16953639622086 \\cdot 10^{-6} \\sqrt{\\frac{m_{1}}{x}}$"
      ],
      "text/plain": [
       "8.16953639622086e-6*sqrt(m1/x)"
      ]
     },
     "execution_count": 9,
     "metadata": {},
     "output_type": "execute_result"
    }
   ],
   "source": [
    "from matplotlib import pyplot as plt\n",
    "\n",
    "def area_of_circle(data):\n",
    "    return np.pi * np.power(data[0], 2)\n",
    "\n",
    "# radius\n",
    "earth = {\n",
    "    \"mass\": 5.972e24,  # kg\n",
    "    \"orbiting_body_mass\": 1.989e30,  # kg\n",
    "    \"distance\": 149.6e9,  # m\n",
    "    \"orbital_period\": 365.25 * 24 * 3600,  # s\n",
    "    \"orbital_velocity\": 29.78e3,  # m/s\n",
    "}\n",
    "venus = {\n",
    "    \"mass\": 4.867e24,  # kg\n",
    "    \"orbiting_body_mass\": 1.989e30,  # kg\n",
    "    \"distance\": 108.2e9,  # m\n",
    "    \"orbital_period\": 224.7 * 24 * 3600,  # s\n",
    "    \"orbital_velocity\": 35.02e3,  # m/s\n",
    "}\n",
    "mars = {\n",
    "    \"mass\": 6.39e23,  # kg\n",
    "    \"orbiting_body_mass\": 1.989e30,  # kg\n",
    "    \"distance\": 227.9e9,  # m\n",
    "    \"orbital_period\": 687.0 * 24 * 3600,  # s\n",
    "    \"orbital_velocity\": 24.13e3,  # m/s\n",
    "}\n",
    "jupiter = {\n",
    "    \"mass\": 1.898e27,  # kg\n",
    "    \"orbiting_body_mass\": 1.989e30,  # kg\n",
    "    \"distance\": 778.6e9,  # m\n",
    "    \"orbital_period\": 4332.0 * 24 * 3600,  # s\n",
    "    \"orbital_velocity\": 13.07e3,  # m/s\n",
    "}\n",
    "saturn = {\n",
    "    \"mass\": 5.683e26,  # kg\n",
    "    \"orbiting_body_mass\": 1.989e30,  # kg\n",
    "    \"distance\": 1.429e12,  # m\n",
    "    \"orbital_period\": 10759.0 * 24 * 3600,  # s\n",
    "    \"orbital_velocity\": 9.69e3,  # m/s\n",
    "}\n",
    "uranus = {\n",
    "    \"mass\": 8.683e25,  # kg\n",
    "    \"orbiting_body_mass\": 1.989e30,  # kg\n",
    "    \"distance\": 2.857e12,  # m\n",
    "    \"orbital_period\": 30688.0 * 24 * 3600,  # s\n",
    "    \"orbital_velocity\": 6.81e3,  # m/s\n",
    "}\n",
    "neptune = {\n",
    "    \"mass\": 1.024e26,  # kg\n",
    "    \"orbiting_body_mass\": 1.989e30,  # kg\n",
    "    \"distance\": 4.498e12,  # m\n",
    "    \"orbital_period\": 60190.0 * 24 * 3600,  # s\n",
    "    \"orbital_velocity\": 5.43e3,  # m/s\n",
    "}\n",
    "moon = {\n",
    "    \"mass\": 7.34767309e22,  # kg\n",
    "    \"orbiting_body_mass\": 5.972e24,  # kg\n",
    "    \"distance\": 3.844e8,  # m\n",
    "    \"orbital_period\": 27.32 * 24 * 3600,  # s\n",
    "    \"orbital_velocity\": 1.022e3,  # m/s\n",
    "}\n",
    "\n",
    "planets = [earth, venus, mars, jupiter, saturn, uranus, neptune, moon]\n",
    "\n",
    "xdata = np.array([planet[\"distance\"] for planet in planets])\n",
    "dim2_data = np.array([planet[\"orbiting_body_mass\"] for planet in planets])\n",
    "dim3_data = np.array([planet[\"orbital_velocity\"] for planet in planets])\n",
    "\n",
    "data = [xdata, dim2_data, dim3_data]\n",
    "\n",
    "# plt.scatter(xdata, dim3_data)\n",
    "\n",
    "def orbital_period(data):\n",
    "    return data[2]\n",
    "\n",
    "with warnings.catch_warnings():\n",
    "    warnings.simplefilter(\"ignore\")\n",
    "    g, sym = main(\n",
    "        num_generations=300,\n",
    "        comparison_func=orbital_period,\n",
    "        xdata=xdata,\n",
    "        dim1_data=dim2_data,\n",
    "        dim2_data=dim3_data,\n",
    "        dimension_names=[\"distance_from_sun\", \"M\"],\n",
    "    )\n",
    "sym\n",
    "\n",
    "# m/s = m  kg \n"
   ]
  }
 ],
 "metadata": {
  "interpreter": {
   "hash": "ef84525c8b3518474726ae08fa6075df35e3a347a06d6f28e63dc1073d701e70"
  },
  "kernelspec": {
   "display_name": "Python 3.9.7 64-bit ('formula_finder-4trw2-9E': pipenv)",
   "language": "python",
   "name": "python3"
  },
  "language_info": {
   "codemirror_mode": {
    "name": "ipython",
    "version": 3
   },
   "file_extension": ".py",
   "mimetype": "text/x-python",
   "name": "python",
   "nbconvert_exporter": "python",
   "pygments_lexer": "ipython3",
   "version": "3.8.8"
  },
  "orig_nbformat": 4
 },
 "nbformat": 4,
 "nbformat_minor": 2
}
