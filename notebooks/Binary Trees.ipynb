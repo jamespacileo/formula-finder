{
 "cells": [
  {
   "cell_type": "code",
   "execution_count": 4,
   "metadata": {},
   "outputs": [
    {
     "name": "stdout",
     "output_type": "stream",
     "text": [
      "                                      add                                       \n",
      "                multiply                                  add                   \n",
      "         b                  N_A                  c                   x          \n",
      "    e         c        N_A        pi       N_A        G         x       M_sun   \n"
     ]
    }
   ],
   "source": [
    "from typing import List\n",
    "from collections import defaultdict\n",
    "from formula_finder.binary_tree import convert_array_nodes_to_keys\n",
    "from formula_finder.variables import add_custom_variables\n",
    "\n",
    "binary_tree = ['multiply', 'divide', 'sqrt', 'divide', 'x', 'multiply', 'x', 'c', 'x', 'pi', 'c', 'c', 'c', 'b', 'x']\n",
    "\n",
    "def read_binary_tree(array, depth_tree=None, index=0, depth=0):\n",
    "    \"\"\"\n",
    "    Converts a formula from a binary tree to a sympy expression\n",
    "    \"\"\"\n",
    "    if not depth_tree:\n",
    "        depth_tree = defaultdict(list)\n",
    "    depth_tree[depth].append(array[index])\n",
    "    if index*2 + 1 < len(array):\n",
    "        depth_tree = read_binary_tree(array, depth_tree, index*2 + 1, depth + 1)\n",
    "        depth_tree = read_binary_tree(array, depth_tree, index*2 + 2, depth + 1)\n",
    "    return depth_tree\n",
    "\n",
    "tree = read_binary_tree(binary_tree)\n",
    "\n",
    "WIDTH = 80\n",
    "\n",
    "def print_binary_tree(tree:list):\n",
    "    tree_dict = read_binary_tree(tree)\n",
    "    for key, value in tree_dict.items():\n",
    "        line = \"\".join(node.center(int(WIDTH/(2**key)), \" \") for node in value)\n",
    "        print(line)\n",
    "\n",
    "\n",
    "add_custom_variables([\"m1\", \"m2\"])\n",
    "\n",
    "solution = convert_array_nodes_to_keys([ 4,  6,  4,  2, 26, 24,  0, 22,  3, 26, 21, 26, 23,  0, 25])\n",
    "print_binary_tree(solution)\n",
    "# len([ 4,  6,  4,  2, 26, 24,  0, 22,  3, 26, 21, 26, 23,  0, 25])\n",
    "# solution\n",
    "# from formula_finder.simplify import represent_formula_in_sympy\n",
    "# represent_formula_in_sympy(solution)\n",
    "\n",
    "\n",
    "    "
   ]
  }
 ],
 "metadata": {
  "interpreter": {
   "hash": "86a0f716ee450d6664399c7b52524ddc6f51615270147bcea1d8508c8402a721"
  },
  "kernelspec": {
   "display_name": "Python 3.8.8 64-bit ('theory-of-everything-hdQOEPTj-py3.8': poetry)",
   "language": "python",
   "name": "python3"
  },
  "language_info": {
   "codemirror_mode": {
    "name": "ipython",
    "version": 3
   },
   "file_extension": ".py",
   "mimetype": "text/x-python",
   "name": "python",
   "nbconvert_exporter": "python",
   "pygments_lexer": "ipython3",
   "version": "3.8.8"
  },
  "orig_nbformat": 4
 },
 "nbformat": 4,
 "nbformat_minor": 2
}
