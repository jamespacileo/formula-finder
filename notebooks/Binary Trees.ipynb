{
 "cells": [
  {
   "cell_type": "code",
   "execution_count": 2,
   "metadata": {},
   "outputs": [
    {
     "name": "stdout",
     "output_type": "stream",
     "text": [
      "                                      atan                                      \n",
      "                subtract                                   m2                   \n",
      "         m1                  x                multiply             log10        \n",
      "    h         m2        m1      M_sun       G         e        N_A        R     \n"
     ]
    },
    {
     "ename": "TypeError",
     "evalue": "'<' not supported between instances of 'str' and 'int'",
     "output_type": "error",
     "traceback": [
      "\u001b[0;31m---------------------------------------------------------------------------\u001b[0m",
      "\u001b[0;31mTypeError\u001b[0m                                 Traceback (most recent call last)",
      "Input \u001b[0;32mIn [2]\u001b[0m, in \u001b[0;36m<module>\u001b[0;34m\u001b[0m\n\u001b[1;32m     36\u001b[0m solution\n\u001b[1;32m     37\u001b[0m \u001b[38;5;28;01mfrom\u001b[39;00m \u001b[38;5;21;01mformula_finder\u001b[39;00m\u001b[38;5;21;01m.\u001b[39;00m\u001b[38;5;21;01msimplify\u001b[39;00m \u001b[38;5;28;01mimport\u001b[39;00m represent_formula_in_sympy\n\u001b[0;32m---> 38\u001b[0m \u001b[43mrepresent_formula_in_sympy\u001b[49m\u001b[43m(\u001b[49m\u001b[43msolution\u001b[49m\u001b[43m)\u001b[49m\n",
      "File \u001b[0;32m~/Projects/Astrophysics/formula_finder/formula_finder/simplify.py:16\u001b[0m, in \u001b[0;36mrepresent_formula_in_sympy\u001b[0;34m(formula)\u001b[0m\n\u001b[1;32m     12\u001b[0m \u001b[38;5;28;01mdef\u001b[39;00m \u001b[38;5;21mrepresent_formula_in_sympy\u001b[39m(formula: np\u001b[38;5;241m.\u001b[39marray):\n\u001b[1;32m     13\u001b[0m     \u001b[38;5;124;03m\"\"\"\u001b[39;00m\n\u001b[1;32m     14\u001b[0m \u001b[38;5;124;03m    Converts a formula from a binary tree to a sympy expression\u001b[39;00m\n\u001b[1;32m     15\u001b[0m \u001b[38;5;124;03m    \"\"\"\u001b[39;00m\n\u001b[0;32m---> 16\u001b[0m     \u001b[38;5;28;01mreturn\u001b[39;00m \u001b[43mconvert_array_to_binary_tree\u001b[49m\u001b[43m(\u001b[49m\n\u001b[1;32m     17\u001b[0m \u001b[43m        \u001b[49m\u001b[43mformula\u001b[49m\u001b[43m,\u001b[49m\n\u001b[1;32m     18\u001b[0m \u001b[43m        \u001b[49m\u001b[43mSymbol\u001b[49m\u001b[43m(\u001b[49m\u001b[38;5;124;43m\"\u001b[39;49m\u001b[38;5;124;43mx\u001b[39;49m\u001b[38;5;124;43m\"\u001b[39;49m\u001b[43m)\u001b[49m\u001b[43m,\u001b[49m\n\u001b[1;32m     19\u001b[0m \u001b[43m        \u001b[49m\u001b[43mSymbol\u001b[49m\u001b[43m(\u001b[49m\u001b[38;5;124;43m\"\u001b[39;49m\u001b[38;5;124;43ma\u001b[39;49m\u001b[38;5;124;43m\"\u001b[39;49m\u001b[43m)\u001b[49m\u001b[43m,\u001b[49m\n\u001b[1;32m     20\u001b[0m \u001b[43m        \u001b[49m\u001b[43mSymbol\u001b[49m\u001b[43m(\u001b[49m\u001b[38;5;124;43m\"\u001b[39;49m\u001b[38;5;124;43mb\u001b[39;49m\u001b[38;5;124;43m\"\u001b[39;49m\u001b[43m)\u001b[49m\u001b[43m,\u001b[49m\n\u001b[1;32m     21\u001b[0m \u001b[43m        \u001b[49m\u001b[43mSymbol\u001b[49m\u001b[43m(\u001b[49m\u001b[38;5;124;43m\"\u001b[39;49m\u001b[38;5;124;43mc\u001b[39;49m\u001b[38;5;124;43m\"\u001b[39;49m\u001b[43m)\u001b[49m\u001b[43m,\u001b[49m\n\u001b[1;32m     22\u001b[0m \u001b[43m        \u001b[49m\u001b[43m[\u001b[49m\u001b[43mSymbol\u001b[49m\u001b[43m(\u001b[49m\u001b[38;5;124;43m\"\u001b[39;49m\u001b[38;5;124;43mm1\u001b[39;49m\u001b[38;5;124;43m\"\u001b[39;49m\u001b[43m)\u001b[49m\u001b[43m,\u001b[49m\u001b[43m \u001b[49m\u001b[43mSymbol\u001b[49m\u001b[43m(\u001b[49m\u001b[38;5;124;43m\"\u001b[39;49m\u001b[38;5;124;43mm2\u001b[39;49m\u001b[38;5;124;43m\"\u001b[39;49m\u001b[43m)\u001b[49m\u001b[43m]\u001b[49m\u001b[43m,\u001b[49m\n\u001b[1;32m     23\u001b[0m \u001b[43m    \u001b[49m\u001b[43m)\u001b[49m\n",
      "File \u001b[0;32m~/Projects/Astrophysics/formula_finder/formula_finder/variables.py:177\u001b[0m, in \u001b[0;36mconvert_array_to_binary_tree\u001b[0;34m(array, x, a, b, c, symbols, array_index)\u001b[0m\n\u001b[1;32m    173\u001b[0m \u001b[38;5;28;01mdef\u001b[39;00m \u001b[38;5;21mconvert_array_to_binary_tree\u001b[39m(array: List, x, a, b, c, symbols: List, array_index\u001b[38;5;241m=\u001b[39m\u001b[38;5;241m0\u001b[39m):\n\u001b[1;32m    174\u001b[0m     \u001b[38;5;66;03m# print(\"array_index\", array_index)\u001b[39;00m\n\u001b[1;32m    175\u001b[0m     index \u001b[38;5;241m=\u001b[39m array[array_index]\n\u001b[0;32m--> 177\u001b[0m     node_type, node \u001b[38;5;241m=\u001b[39m \u001b[43mget_node_from_index\u001b[49m\u001b[43m(\u001b[49m\u001b[43mindex\u001b[49m\u001b[43m)\u001b[49m\n\u001b[1;32m    178\u001b[0m     \u001b[38;5;28;01mif\u001b[39;00m node_type \u001b[38;5;241m==\u001b[39m \u001b[38;5;124m\"\u001b[39m\u001b[38;5;124msymbol\u001b[39m\u001b[38;5;124m\"\u001b[39m:\n\u001b[1;32m    179\u001b[0m         \u001b[38;5;28;01mif\u001b[39;00m index \u001b[38;5;241m==\u001b[39m \u001b[38;5;241m0\u001b[39m:\n",
      "File \u001b[0;32m~/Projects/Astrophysics/formula_finder/formula_finder/variables.py:145\u001b[0m, in \u001b[0;36mget_node_from_index\u001b[0;34m(index)\u001b[0m\n\u001b[1;32m    141\u001b[0m \u001b[38;5;28;01mdef\u001b[39;00m \u001b[38;5;21mget_node_from_index\u001b[39m(index):\n\u001b[1;32m    142\u001b[0m     \u001b[38;5;124;03m\"\"\"\u001b[39;00m\n\u001b[1;32m    143\u001b[0m \u001b[38;5;124;03m    Returns a node from a given index\u001b[39;00m\n\u001b[1;32m    144\u001b[0m \u001b[38;5;124;03m    \"\"\"\u001b[39;00m\n\u001b[0;32m--> 145\u001b[0m     \u001b[38;5;28;01mif\u001b[39;00m \u001b[43mindex\u001b[49m\u001b[43m \u001b[49m\u001b[38;5;241;43m<\u001b[39;49m\u001b[43m \u001b[49m\u001b[38;5;28;43mlen\u001b[39;49m\u001b[43m(\u001b[49m\u001b[43mSYMBOL_NODES_LIST\u001b[49m\u001b[43m)\u001b[49m:\n\u001b[1;32m    146\u001b[0m         \u001b[38;5;28;01mreturn\u001b[39;00m \u001b[38;5;124m\"\u001b[39m\u001b[38;5;124msymbol\u001b[39m\u001b[38;5;124m\"\u001b[39m, SYMBOL_NODES_LIST[index]\n\u001b[1;32m    147\u001b[0m     index \u001b[38;5;241m-\u001b[39m\u001b[38;5;241m=\u001b[39m \u001b[38;5;28mlen\u001b[39m(SYMBOL_NODES_LIST)\n",
      "\u001b[0;31mTypeError\u001b[0m: '<' not supported between instances of 'str' and 'int'"
     ]
    }
   ],
   "source": [
    "from typing import List\n",
    "from collections import defaultdict\n",
    "from formula_finder.binary_tree import convert_array_nodes_to_keys\n",
    "from formula_finder.variables import add_custom_variables\n",
    "\n",
    "binary_tree = ['multiply', 'divide', 'sqrt', 'divide', 'x', 'multiply', 'x', 'c', 'x', 'pi', 'c', 'c', 'c', 'b', 'x']\n",
    "\n",
    "def read_binary_tree(array, depth_tree=None, index=0, depth=0):\n",
    "    \"\"\"\n",
    "    Converts a formula from a binary tree to a sympy expression\n",
    "    \"\"\"\n",
    "    if not depth_tree:\n",
    "        depth_tree = defaultdict(list)\n",
    "    depth_tree[depth].append(array[index])\n",
    "    if index*2 + 1 < len(array):\n",
    "        depth_tree = read_binary_tree(array, depth_tree, index*2 + 1, depth + 1)\n",
    "        depth_tree = read_binary_tree(array, depth_tree, index*2 + 2, depth + 1)\n",
    "    return depth_tree\n",
    "\n",
    "tree = read_binary_tree(binary_tree)\n",
    "\n",
    "WIDTH = 80\n",
    "\n",
    "def print_binary_tree(tree:list):\n",
    "    tree_dict = read_binary_tree(tree)\n",
    "    for key, value in tree_dict.items():\n",
    "        line = \"\".join(node.center(int(WIDTH/(2**key)), \" \") for node in value)\n",
    "        print(line)\n",
    "\n",
    "\n",
    "add_custom_variables([\"m1\", \"m2\"])\n",
    "\n",
    "solution = convert_array_nodes_to_keys([17,  7, 30, 29,  0,  6, 11, 28, 30, 29, 25, 23, 22, 26, 27])\n",
    "print_binary_tree(solution)\n",
    "len([17,  7, 30, 29,  0,  6, 11, 28, 30, 29, 25, 23, 22, 26, 27])\n",
    "solution\n",
    "from formula_finder.simplify import represent_formula_in_sympy\n",
    "represent_formula_in_sympy(solution)\n",
    "\n",
    "\n",
    "    "
   ]
  }
 ],
 "metadata": {
  "interpreter": {
   "hash": "86a0f716ee450d6664399c7b52524ddc6f51615270147bcea1d8508c8402a721"
  },
  "kernelspec": {
   "display_name": "Python 3.8.8 64-bit ('theory-of-everything-hdQOEPTj-py3.8': poetry)",
   "language": "python",
   "name": "python3"
  },
  "language_info": {
   "codemirror_mode": {
    "name": "ipython",
    "version": 3
   },
   "file_extension": ".py",
   "mimetype": "text/x-python",
   "name": "python",
   "nbconvert_exporter": "python",
   "pygments_lexer": "ipython3",
   "version": "3.8.8"
  },
  "orig_nbformat": 4
 },
 "nbformat": 4,
 "nbformat_minor": 2
}
